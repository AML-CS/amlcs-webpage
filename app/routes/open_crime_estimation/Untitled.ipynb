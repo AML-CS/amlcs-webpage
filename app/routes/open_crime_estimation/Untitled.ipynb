{
 "cells": [
  {
   "cell_type": "code",
   "execution_count": 6,
   "metadata": {},
   "outputs": [],
   "source": [
    "import pandas as pd\n",
    "\n",
    "cities = pd.read_csv('assets/Dept_Cap.csv').drop('Unnamed: 0',axis=1)"
   ]
  },
  {
   "cell_type": "code",
   "execution_count": 14,
   "metadata": {},
   "outputs": [
    {
     "data": {
      "text/plain": [
       "['RISARALDA-PEREIRA',\n",
       " 'ATLÁNTICO-BARRANQUILLA',\n",
       " 'CESAR-VALLEDUPAR',\n",
       " 'CHOCÓ-QUIBDÓ',\n",
       " 'CAUCA-POPAYÁN',\n",
       " 'AMAZONAS-LETICIA',\n",
       " 'NARIÑO-PASTO',\n",
       " 'BOYACÁ-TUNJA',\n",
       " 'GUAJIRA-RIOHACHA',\n",
       " 'GUAINÍA-INÍRIDA',\n",
       " 'NORTE DE SANTANDER-CÚCUTA',\n",
       " 'HUILA-NEIVA',\n",
       " 'SUCRE-SINCELEJO',\n",
       " 'META-VILLAVICENCIO',\n",
       " 'GUAVIARE-SAN JOSÉ DEL GUAVIARE',\n",
       " 'ARAUCA-ARAUCA',\n",
       " 'CALDAS-MANIZALES',\n",
       " 'QUINDÍO-ARMENIA',\n",
       " 'SAN ANDRÉS-SAN ANDRÉS',\n",
       " 'SANTANDER-BUCARAMANGA',\n",
       " 'CAQUETÁ-FLORENCIA',\n",
       " 'PUTUMAYO-MOCOA',\n",
       " 'VALLE-CALI',\n",
       " 'BOLÍVAR-CARTAGENA',\n",
       " 'VAUPÉS-MITÚ',\n",
       " 'CASANARE-YOPAL',\n",
       " 'CÓRDOBA-MONTERÍA',\n",
       " 'TOLIMA-IBAGUÉ',\n",
       " 'ANTIOQUIA-MEDELLÍN',\n",
       " 'VICHADA-PUERTO CARREÑO',\n",
       " 'MAGDALENA-SANTA MARTA']"
      ]
     },
     "execution_count": 14,
     "metadata": {},
     "output_type": "execute_result"
    }
   ],
   "source": [
    "a = [(x['Departamento']+'-'+x['Capital'][:-5]) for _,x in cities.iterrows()]\n",
    "a"
   ]
  },
  {
   "cell_type": "code",
   "execution_count": 16,
   "metadata": {},
   "outputs": [
    {
     "data": {
      "text/plain": [
       "[{'label': 'RISARALDA-PEREIRA', 'value': 'RISARALDA-PEREIRA'},\n",
       " {'label': 'ATLÁNTICO-BARRANQUILLA', 'value': 'ATLÁNTICO-BARRANQUILLA'},\n",
       " {'label': 'CESAR-VALLEDUPAR', 'value': 'CESAR-VALLEDUPAR'},\n",
       " {'label': 'CHOCÓ-QUIBDÓ', 'value': 'CHOCÓ-QUIBDÓ'},\n",
       " {'label': 'CAUCA-POPAYÁN', 'value': 'CAUCA-POPAYÁN'},\n",
       " {'label': 'AMAZONAS-LETICIA', 'value': 'AMAZONAS-LETICIA'},\n",
       " {'label': 'NARIÑO-PASTO', 'value': 'NARIÑO-PASTO'},\n",
       " {'label': 'BOYACÁ-TUNJA', 'value': 'BOYACÁ-TUNJA'},\n",
       " {'label': 'GUAJIRA-RIOHACHA', 'value': 'GUAJIRA-RIOHACHA'},\n",
       " {'label': 'GUAINÍA-INÍRIDA', 'value': 'GUAINÍA-INÍRIDA'},\n",
       " {'label': 'NORTE DE SANTANDER-CÚCUTA', 'value': 'NORTE DE SANTANDER-CÚCUTA'},\n",
       " {'label': 'HUILA-NEIVA', 'value': 'HUILA-NEIVA'},\n",
       " {'label': 'SUCRE-SINCELEJO', 'value': 'SUCRE-SINCELEJO'},\n",
       " {'label': 'META-VILLAVICENCIO', 'value': 'META-VILLAVICENCIO'},\n",
       " {'label': 'GUAVIARE-SAN JOSÉ DEL GUAVIARE',\n",
       "  'value': 'GUAVIARE-SAN JOSÉ DEL GUAVIARE'},\n",
       " {'label': 'ARAUCA-ARAUCA', 'value': 'ARAUCA-ARAUCA'},\n",
       " {'label': 'CALDAS-MANIZALES', 'value': 'CALDAS-MANIZALES'},\n",
       " {'label': 'QUINDÍO-ARMENIA', 'value': 'QUINDÍO-ARMENIA'},\n",
       " {'label': 'SAN ANDRÉS-SAN ANDRÉS', 'value': 'SAN ANDRÉS-SAN ANDRÉS'},\n",
       " {'label': 'SANTANDER-BUCARAMANGA', 'value': 'SANTANDER-BUCARAMANGA'},\n",
       " {'label': 'CAQUETÁ-FLORENCIA', 'value': 'CAQUETÁ-FLORENCIA'},\n",
       " {'label': 'PUTUMAYO-MOCOA', 'value': 'PUTUMAYO-MOCOA'},\n",
       " {'label': 'VALLE-CALI', 'value': 'VALLE-CALI'},\n",
       " {'label': 'BOLÍVAR-CARTAGENA', 'value': 'BOLÍVAR-CARTAGENA'},\n",
       " {'label': 'VAUPÉS-MITÚ', 'value': 'VAUPÉS-MITÚ'},\n",
       " {'label': 'CASANARE-YOPAL', 'value': 'CASANARE-YOPAL'},\n",
       " {'label': 'CÓRDOBA-MONTERÍA', 'value': 'CÓRDOBA-MONTERÍA'},\n",
       " {'label': 'TOLIMA-IBAGUÉ', 'value': 'TOLIMA-IBAGUÉ'},\n",
       " {'label': 'ANTIOQUIA-MEDELLÍN', 'value': 'ANTIOQUIA-MEDELLÍN'},\n",
       " {'label': 'VICHADA-PUERTO CARREÑO', 'value': 'VICHADA-PUERTO CARREÑO'},\n",
       " {'label': 'MAGDALENA-SANTA MARTA', 'value': 'MAGDALENA-SANTA MARTA'}]"
      ]
     },
     "execution_count": 16,
     "metadata": {},
     "output_type": "execute_result"
    }
   ],
   "source": [
    "options = {}\n",
    "\n",
    "[{'label':x['Departamento']+'-'+x['Capital'][:-5],'value':x['Departamento']+'-'+x['Capital'][:-5]} for _,x in cities.iterrows()]"
   ]
  },
  {
   "cell_type": "code",
   "execution_count": null,
   "metadata": {},
   "outputs": [],
   "source": []
  }
 ],
 "metadata": {
  "kernelspec": {
   "display_name": "Python 3",
   "language": "python",
   "name": "python3"
  },
  "language_info": {
   "codemirror_mode": {
    "name": "ipython",
    "version": 3
   },
   "file_extension": ".py",
   "mimetype": "text/x-python",
   "name": "python",
   "nbconvert_exporter": "python",
   "pygments_lexer": "ipython3",
   "version": "3.7.7"
  }
 },
 "nbformat": 4,
 "nbformat_minor": 4
}
